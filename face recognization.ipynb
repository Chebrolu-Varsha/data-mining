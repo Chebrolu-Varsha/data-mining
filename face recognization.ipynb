{
 "cells": [
  {
   "cell_type": "code",
   "execution_count": 11,
   "id": "9f479d74",
   "metadata": {},
   "outputs": [],
   "source": [
    "import cv2\n",
    "import numpy as np\n",
    "import os\n"
   ]
  },
  {
   "cell_type": "code",
   "execution_count": 12,
   "id": "7c158005",
   "metadata": {},
   "outputs": [],
   "source": [
    "def dist(x1,x2):\n",
    "    return np.sqrt(sum((x1-x2)**2))"
   ]
  },
  {
   "cell_type": "code",
   "execution_count": 13,
   "id": "1fd4badb",
   "metadata": {},
   "outputs": [],
   "source": [
    "def knn(train,test,k=5):\n",
    "    l=[]\n",
    "    m = train.shape[0]\n",
    "    for i in range(m):\n",
    "        ix = train[i,:-1]\n",
    "        iy = train[i,-1]\n",
    "        d = dist(test,ix)\n",
    "        l.append([d,iy])\n",
    "    l = sorted(l,key = lambda x:x[0])\n",
    "    l = l[:k]\n",
    "    l = np.array(l)[:,-1]\n",
    "    \n",
    "    new_val = np.unique(l,return_counts = True)\n",
    "   \n",
    "    a = np.argmax(new_val[1])\n",
    "    return new_val[0][a]\n",
    "        "
   ]
  },
  {
   "cell_type": "code",
   "execution_count": 14,
   "id": "58383e0e",
   "metadata": {},
   "outputs": [
    {
     "name": "stdout",
     "output_type": "stream",
     "text": [
      "Loadedvarsha.npy\n",
      "(26, 10000)\n",
      "(26, 1)\n",
      "(26, 10001)\n"
     ]
    }
   ],
   "source": [
    "cap = cv2.VideoCapture(0)\n",
    "\n",
    "face_cascade = cv2.CascadeClassifier(\"./haarcascade_frontalface_alt.xml\")\n",
    "\n",
    "face_data = []\n",
    "labels = []\n",
    "\n",
    "class_id = 0\n",
    "names = {}\n",
    "\n",
    "datapath = \"./\"\n",
    "\n",
    "for fx in os.listdir(datapath):\n",
    "    if(fx.endswith('.npy')):\n",
    "        names[class_id] = fx[:-4]\n",
    "        print(\"Loaded\"+fx)\n",
    "        data_item = np.load(datapath+fx)\n",
    "        face_data.append(data_item)\n",
    "        \n",
    "        l = class_id * np.ones((data_item.shape[0],))\n",
    "        labels.append(l)\n",
    "        class_id += 1\n",
    "        \n",
    "face_dataset = np.concatenate(face_data,axis = 0)\n",
    "face_labels = np.concatenate(labels,axis=0).reshape((-1,1))\n",
    "\n",
    "print(face_dataset.shape)\n",
    "print(face_labels.shape)\n",
    "\n",
    "trainset = np.concatenate((face_dataset,face_labels),axis = 1)\n",
    "print(trainset.shape)\n",
    "\n",
    "\n",
    "while True:\n",
    "    ret,frame = cap.read()\n",
    "    if ret == False:\n",
    "        continue\n",
    "    #cv2.imshow(\"frame\",frame)\n",
    "    \n",
    "    gray_frame = cv2.cvtColor(frame,cv2.COLOR_BGR2GRAY)\n",
    "    \n",
    "    faces = face_cascade.detectMultiScale(gray_frame,1.3,5)\n",
    "    \n",
    "    if len(faces)==0:\n",
    "        continue\n",
    "    \n",
    "    for f in faces[-1:]:\n",
    "        x,y,w,h = f\n",
    "        offset = 10\n",
    "        face_section = gray_frame[y-offset:y+h-offset,x-offset:x+w-offset]\n",
    "        face_section = cv2.resize(face_section,(100,100))\n",
    "        out = knn(trainset,face_section.flatten())\n",
    "        pred = names[out]\n",
    "        cv2.putText(gray_frame,pred,(x,y-10),cv2.FONT_HERSHEY_SIMPLEX,1,(255,0,0),2,cv2.LINE_AA)\n",
    "        cv2.rectangle(gray_frame,(x,y),(x+w,y+h),(0,255,255),2)\n",
    "        \n",
    "    \n",
    "    cv2.imshow(\"gray_frame\",gray_frame)\n",
    "    key_pressed = cv2.waitKey(1) & 0xFF\n",
    "    if key_pressed == ord('q'):\n",
    "        break\n",
    "        \n",
    "cap.release()\n",
    "cv2.destroyAllWindows()"
   ]
  },
  {
   "cell_type": "code",
   "execution_count": null,
   "id": "09bc4e1d",
   "metadata": {},
   "outputs": [],
   "source": []
  }
 ],
 "metadata": {
  "kernelspec": {
   "display_name": "Python 3 (ipykernel)",
   "language": "python",
   "name": "python3"
  },
  "language_info": {
   "codemirror_mode": {
    "name": "ipython",
    "version": 3
   },
   "file_extension": ".py",
   "mimetype": "text/x-python",
   "name": "python",
   "nbconvert_exporter": "python",
   "pygments_lexer": "ipython3",
   "version": "3.10.5"
  }
 },
 "nbformat": 4,
 "nbformat_minor": 5
}
